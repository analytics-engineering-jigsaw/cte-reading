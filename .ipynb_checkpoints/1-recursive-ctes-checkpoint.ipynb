{
 "cells": [
  {
   "cell_type": "markdown",
   "id": "0677e85a-5588-46d6-b915-30b54da45b51",
   "metadata": {},
   "source": [
    "# Recursive CTE Notes"
   ]
  },
  {
   "cell_type": "markdown",
   "id": "9846bd61-e26f-4d3f-8fa7-82b328b8eba7",
   "metadata": {},
   "source": [
    "[Leetcode SQL CTE](https://leetcode.com/discuss/study-guide/1601295/Database-SQL-Primer-(Part-4)-Recursive-CTEs)"
   ]
  },
  {
   "cell_type": "code",
   "execution_count": null,
   "id": "88bda84d-1a52-42ce-9dcc-9f9986281329",
   "metadata": {},
   "outputs": [],
   "source": []
  }
 ],
 "metadata": {
  "kernelspec": {
   "display_name": "Python 3 (ipykernel)",
   "language": "python",
   "name": "python3"
  },
  "language_info": {
   "codemirror_mode": {
    "name": "ipython",
    "version": 3
   },
   "file_extension": ".py",
   "mimetype": "text/x-python",
   "name": "python",
   "nbconvert_exporter": "python",
   "pygments_lexer": "ipython3",
   "version": "3.9.12"
  }
 },
 "nbformat": 4,
 "nbformat_minor": 5
}
