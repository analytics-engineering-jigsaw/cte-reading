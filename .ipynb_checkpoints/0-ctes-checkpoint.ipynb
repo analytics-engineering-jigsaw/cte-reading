{
 "cells": [
  {
   "cell_type": "markdown",
   "id": "legal-science",
   "metadata": {},
   "source": [
    "### Introduction\n",
    "\n",
    "In this lesson, we'll see how to use common table expressions (CTEs) in SQL.  CTEs allow us to create a temporary query which we can then reference for later queries.  Let's see it!"
   ]
  },
  {
   "cell_type": "markdown",
   "id": "secret-calvin",
   "metadata": {},
   "source": [
    "### Loading our Data"
   ]
  },
  {
   "cell_type": "markdown",
   "id": "underlying-nothing",
   "metadata": {},
   "source": [
    "To learn about CTEs we'll use our movie films database.  Let's get started by connecting to the database with sqlite."
   ]
  },
  {
   "cell_type": "code",
   "execution_count": 3,
   "id": "manual-dollar",
   "metadata": {},
   "outputs": [],
   "source": [
    "import pandas as pd\n",
    "import sqlite3\n",
    "conn = sqlite3.connect('movie_films_actors.db')\n",
    "cursor = conn.cursor()"
   ]
  },
  {
   "cell_type": "code",
   "execution_count": 4,
   "id": "75542fa7-8d67-4858-a39b-ee996c1c2b24",
   "metadata": {},
   "outputs": [],
   "source": [
    "df = pd.read_csv('movies.csv', index_col = 0)"
   ]
  },
  {
   "cell_type": "code",
   "execution_count": 5,
   "id": "2ed15ff3-61e5-47e0-bad3-01fc8c8e807c",
   "metadata": {},
   "outputs": [
    {
     "data": {
      "text/plain": [
       "15111"
      ]
     },
     "execution_count": 5,
     "metadata": {},
     "output_type": "execute_result"
    }
   ],
   "source": [
    "df.to_sql('movies', conn, if_exists = 'replace', index_label = 'id')"
   ]
  },
  {
   "cell_type": "markdown",
   "id": "orange-nepal",
   "metadata": {},
   "source": [
    "And then, let's take a look at some of the data in our `movies` table:"
   ]
  },
  {
   "cell_type": "code",
   "execution_count": 6,
   "id": "million-australia",
   "metadata": {},
   "outputs": [],
   "source": [
    "import pandas as pd\n",
    "df = pd.read_sql('SELECT * FROM movies;', conn)"
   ]
  },
  {
   "cell_type": "code",
   "execution_count": 7,
   "id": "e22efd76-a16c-4afd-bdf0-e93b1e4d9f5f",
   "metadata": {},
   "outputs": [
    {
     "data": {
      "text/html": [
       "<div>\n",
       "<style scoped>\n",
       "    .dataframe tbody tr th:only-of-type {\n",
       "        vertical-align: middle;\n",
       "    }\n",
       "\n",
       "    .dataframe tbody tr th {\n",
       "        vertical-align: top;\n",
       "    }\n",
       "\n",
       "    .dataframe thead th {\n",
       "        text-align: right;\n",
       "    }\n",
       "</style>\n",
       "<table border=\"1\" class=\"dataframe\">\n",
       "  <thead>\n",
       "    <tr style=\"text-align: right;\">\n",
       "      <th></th>\n",
       "      <th>id</th>\n",
       "      <th>title</th>\n",
       "      <th>studio</th>\n",
       "      <th>runtime</th>\n",
       "      <th>description</th>\n",
       "      <th>release_date</th>\n",
       "      <th>year</th>\n",
       "    </tr>\n",
       "  </thead>\n",
       "  <tbody>\n",
       "    <tr>\n",
       "      <th>0</th>\n",
       "      <td>0</td>\n",
       "      <td>!Women Art Revolution</td>\n",
       "      <td>Zeitgeist Films</td>\n",
       "      <td>83.0</td>\n",
       "      <td>Through intimate interviews, art, and rarely s...</td>\n",
       "      <td>2011-06-01 00:00:00</td>\n",
       "      <td>2011</td>\n",
       "    </tr>\n",
       "    <tr>\n",
       "      <th>1</th>\n",
       "      <td>1</td>\n",
       "      <td>#Horror</td>\n",
       "      <td>Lowland Pictures</td>\n",
       "      <td>90.0</td>\n",
       "      <td>You've got followers... Cyberbullying goes off...</td>\n",
       "      <td>2015-11-20 00:00:00</td>\n",
       "      <td>2015</td>\n",
       "    </tr>\n",
       "  </tbody>\n",
       "</table>\n",
       "</div>"
      ],
      "text/plain": [
       "   id                  title            studio  runtime  \\\n",
       "0   0  !Women Art Revolution   Zeitgeist Films     83.0   \n",
       "1   1                #Horror  Lowland Pictures     90.0   \n",
       "\n",
       "                                         description         release_date  \\\n",
       "0  Through intimate interviews, art, and rarely s...  2011-06-01 00:00:00   \n",
       "1  You've got followers... Cyberbullying goes off...  2015-11-20 00:00:00   \n",
       "\n",
       "   year  \n",
       "0  2011  \n",
       "1  2015  "
      ]
     },
     "execution_count": 7,
     "metadata": {},
     "output_type": "execute_result"
    }
   ],
   "source": [
    "df[:2]"
   ]
  },
  {
   "cell_type": "markdown",
   "id": "neither-universal",
   "metadata": {},
   "source": [
    "So we can see that we have different information about each movie like the title, runtime, and year of release, among other columns."
   ]
  },
  {
   "cell_type": "markdown",
   "id": "ruled-median",
   "metadata": {},
   "source": [
    "### A two step problem"
   ]
  },
  {
   "cell_type": "markdown",
   "id": "worse-proposal",
   "metadata": {},
   "source": [
    "Now let's say that we want to use SQL to find the following: \n",
    "  * **years where movies have an average length greater than 120.**  \n",
    "    \n",
    "One way to do this would be to simply using the `HAVING` clause."
   ]
  },
  {
   "cell_type": "code",
   "execution_count": 36,
   "id": "secret-strand",
   "metadata": {},
   "outputs": [
    {
     "data": {
      "text/html": [
       "<div>\n",
       "<style scoped>\n",
       "    .dataframe tbody tr th:only-of-type {\n",
       "        vertical-align: middle;\n",
       "    }\n",
       "\n",
       "    .dataframe tbody tr th {\n",
       "        vertical-align: top;\n",
       "    }\n",
       "\n",
       "    .dataframe thead th {\n",
       "        text-align: right;\n",
       "    }\n",
       "</style>\n",
       "<table border=\"1\" class=\"dataframe\">\n",
       "  <thead>\n",
       "    <tr style=\"text-align: right;\">\n",
       "      <th></th>\n",
       "      <th>avg_runtime</th>\n",
       "      <th>year</th>\n",
       "    </tr>\n",
       "  </thead>\n",
       "  <tbody>\n",
       "    <tr>\n",
       "      <th>0</th>\n",
       "      <td>181.0</td>\n",
       "      <td>1914</td>\n",
       "    </tr>\n",
       "    <tr>\n",
       "      <th>1</th>\n",
       "      <td>133.5</td>\n",
       "      <td>1915</td>\n",
       "    </tr>\n",
       "    <tr>\n",
       "      <th>2</th>\n",
       "      <td>175.0</td>\n",
       "      <td>1916</td>\n",
       "    </tr>\n",
       "  </tbody>\n",
       "</table>\n",
       "</div>"
      ],
      "text/plain": [
       "   avg_runtime  year\n",
       "0        181.0  1914\n",
       "1        133.5  1915\n",
       "2        175.0  1916"
      ]
     },
     "execution_count": 36,
     "metadata": {},
     "output_type": "execute_result"
    }
   ],
   "source": [
    "query = '''SELECT AVG(runtime) as avg_runtime, year FROM movies\n",
    "GROUP BY year HAVING avg_runtime > 120;'''\n",
    "pd.read_sql(query, conn)"
   ]
  },
  {
   "cell_type": "markdown",
   "id": "phantom-hypothesis",
   "metadata": {},
   "source": [
    "And we can see that all of these movies are from the 1910s.  Ok so using HAVING is one way to complete the above task.  Another way is with a common table expression.  \n",
    "\n",
    "With a common table expression, we can create a temporary table. Below, we use this to first group our movies by year and create a temporary table that has a column of average runtimes per year.  Then, in a separate step we'll select those years that meet our threshold."
   ]
  },
  {
   "cell_type": "code",
   "execution_count": 6,
   "id": "equal-adapter",
   "metadata": {},
   "outputs": [],
   "source": [
    "query = \"\"\"WITH movie_years AS (\n",
    "SELECT\n",
    "        AVG(runtime) as avg_runtime,\n",
    "        year\n",
    "FROM movies GROUP BY year\n",
    ")\n",
    "\n",
    "SELECT     avg_runtime,\n",
    "        year\n",
    "FROM movie_years WHERE avg_runtime > 120;\"\"\""
   ]
  },
  {
   "cell_type": "code",
   "execution_count": 7,
   "id": "duplicate-sleep",
   "metadata": {},
   "outputs": [
    {
     "data": {
      "text/html": [
       "<div>\n",
       "<style scoped>\n",
       "    .dataframe tbody tr th:only-of-type {\n",
       "        vertical-align: middle;\n",
       "    }\n",
       "\n",
       "    .dataframe tbody tr th {\n",
       "        vertical-align: top;\n",
       "    }\n",
       "\n",
       "    .dataframe thead th {\n",
       "        text-align: right;\n",
       "    }\n",
       "</style>\n",
       "<table border=\"1\" class=\"dataframe\">\n",
       "  <thead>\n",
       "    <tr style=\"text-align: right;\">\n",
       "      <th></th>\n",
       "      <th>avg_runtime</th>\n",
       "      <th>year</th>\n",
       "    </tr>\n",
       "  </thead>\n",
       "  <tbody>\n",
       "    <tr>\n",
       "      <th>0</th>\n",
       "      <td>181.0</td>\n",
       "      <td>1914</td>\n",
       "    </tr>\n",
       "    <tr>\n",
       "      <th>1</th>\n",
       "      <td>133.5</td>\n",
       "      <td>1915</td>\n",
       "    </tr>\n",
       "    <tr>\n",
       "      <th>2</th>\n",
       "      <td>175.0</td>\n",
       "      <td>1916</td>\n",
       "    </tr>\n",
       "  </tbody>\n",
       "</table>\n",
       "</div>"
      ],
      "text/plain": [
       "   avg_runtime  year\n",
       "0        181.0  1914\n",
       "1        133.5  1915\n",
       "2        175.0  1916"
      ]
     },
     "execution_count": 7,
     "metadata": {},
     "output_type": "execute_result"
    }
   ],
   "source": [
    "pd.read_sql(query, conn)"
   ]
  },
  {
   "cell_type": "markdown",
   "id": "applicable-universal",
   "metadata": {},
   "source": [
    "Ok, let's break this down.  \n",
    "\n",
    "1. The `WITH movie_years` creates a new temporary table called `movies_years`.  It's populated with the results of the SELECT statement.\n",
    "\n",
    "2. Then in the second SELECT statement we select from our newly created table `movie_years`.  So notice that we do not need to use the HAVING clause in the second SELECT statement, because we `avg_runtime` exists as a **column** in our temporary table. "
   ]
  },
  {
   "cell_type": "markdown",
   "id": "familiar-savannah",
   "metadata": {},
   "source": [
    "> Here's that CTE again."
   ]
  },
  {
   "cell_type": "markdown",
   "id": "running-winter",
   "metadata": {},
   "source": [
    "```sql\n",
    "WITH movie_years AS (\n",
    "  SELECT AVG(runtime) as avg_runtime, year\n",
    "  FROM movies GROUP BY year\n",
    ")\n",
    "\n",
    "SELECT avg_runtime, year FROM movie_years WHERE avg_runtime > 120;\n",
    "```"
   ]
  },
  {
   "cell_type": "markdown",
   "id": "persistent-friday",
   "metadata": {},
   "source": [
    "So we can see that in CTEs, we create a temporary table with the following syntax:\n",
    "\n",
    "```SQL\n",
    "WITH table_name AS (\n",
    "   SELECT ...\n",
    ")\n",
    "\n",
    "SELECT ... FROM table_name;\n",
    "```"
   ]
  },
  {
   "cell_type": "markdown",
   "id": "wrong-point",
   "metadata": {},
   "source": [
    "### CTEs and MultiLevel Aggregations"
   ]
  },
  {
   "cell_type": "markdown",
   "id": "infrared-decrease",
   "metadata": {},
   "source": [
    "So above we saw how we can use CTEs to create a temporary table, and we can then query from that temporary table.  But so far, we could have simply used the HAVING clause instead of our CTE.  \n",
    "\n",
    "Another usecase, where a CTE is more necessary, is with multilevel aggregations.  For example, let's say that we want to find for each year, the studio with the highest average runtime.  \n",
    "\n",
    "> So maybe would find that Warner Bros has the highest average runtime for 1950, and Disney for 1951. \n",
    "\n",
    "To perform this query, we can start with just a SELECT statement that groups our movies by `year` and `studio`, and returns the average runtime per studio per year."
   ]
  },
  {
   "cell_type": "code",
   "execution_count": 7,
   "id": "rocky-messenger",
   "metadata": {},
   "outputs": [
    {
     "data": {
      "text/plain": [
       "[(181.0, 'Itala Film', 1914),\n",
       " (75.0, 'Box Office Attractions', 1915),\n",
       " (192.0, 'Gravitas', 1915),\n",
       " (175.0, 'Cohen Media Group', 1916),\n",
       " (102.0, 'Kino on Video', 1919),\n",
       " (107.0, 'Kino Lorber', 1920),\n",
       " (52.0, 'Rialto Pictures', 1920),\n",
       " (None, 'Samuel Goldwyn Company', 1920)]"
      ]
     },
     "execution_count": 7,
     "metadata": {},
     "output_type": "execute_result"
    }
   ],
   "source": [
    "sql = \"\"\"\n",
    "  SELECT AVG(runtime) as avg_runtime_per_studio_year, studio, year\n",
    "  FROM movies GROUP BY year, studio ORDER BY year LIMIT 8;\n",
    "\"\"\"\n",
    "\n",
    "cursor.execute(sql)\n",
    "cursor.fetchall()"
   ]
  },
  {
   "cell_type": "markdown",
   "id": "boxed-shannon",
   "metadata": {},
   "source": [
    "The above gives the average runtime of each studio per year.  But remember we want to find the studio with the highest average runtime for each year.  \n",
    "\n",
    "To do this, we can use a CTE to build off of our query above. "
   ]
  },
  {
   "cell_type": "code",
   "execution_count": 12,
   "id": "dynamic-recipient",
   "metadata": {},
   "outputs": [
    {
     "data": {
      "text/plain": [
       "[(181.0, 'Itala Film', 1914, 1),\n",
       " (75.0, 'Box Office Attractions', 1915, 1),\n",
       " (175.0, 'Cohen Media Group', 1916, 1),\n",
       " (102.0, 'Kino on Video', 1919, 1),\n",
       " (None, 'Samuel Goldwyn Company', 1920, 1)]"
      ]
     },
     "execution_count": 12,
     "metadata": {},
     "output_type": "execute_result"
    }
   ],
   "source": [
    "sql = \"\"\"WITH movie_studio_years AS (\n",
    "  SELECT AVG(runtime) as avg_runtime_per_studio_year, studio, year\n",
    "  FROM movies GROUP BY year, studio\n",
    "), avg_runtimes_rank AS (\n",
    "    SELECT avg_runtime_per_studio_year, \n",
    "    studio,\n",
    "    year,\n",
    "    rank() OVER (partition by year ORDER BY avg_runtime_per_studio_year) as runtime_rank\n",
    "    FROM movie_studio_years\n",
    ")\n",
    "\n",
    "SELECT * FROM avg_runtimes_rank WHERE runtime_rank = 1 LIMIT 5\n",
    "\"\"\"\n",
    "\n",
    "cursor.execute(sql)\n",
    "cursor.fetchall()\n",
    "\n",
    "# [(181.0, 'Itala Film', 1914),\n",
    "#  (192.0, 'Gravitas', 1915),\n",
    "#  (175.0, 'Cohen Media Group', 1916),\n",
    "#  (102.0, 'Kino on Video', 1919),\n",
    "#  (107.0, 'Kino Lorber', 1920)]"
   ]
  },
  {
   "cell_type": "markdown",
   "id": "earlier-humor",
   "metadata": {},
   "source": [
    "So above, we create a new temporary table `movie_studio_years` that calculates the average runtime per studio per year -- just like before.  And then from that initial table, used a window function to rank the studios by their runtime per year.  \n",
    "\n",
    "Finally, we selected just those studios with a top rank per year.\n",
    "\n",
    "> Notice that with the second CTE, we no longer needed a `WITH` clause.  Instead, we just had a comma, and then the name of the next CTE:\n",
    "\n",
    "> `, avg_runtimes_rank AS (`"
   ]
  },
  {
   "cell_type": "markdown",
   "id": "thermal-heritage",
   "metadata": {},
   "source": [
    "### Summary"
   ]
  },
  {
   "cell_type": "markdown",
   "id": "compatible-marriage",
   "metadata": {},
   "source": [
    "In this lesson we learned about CTEs.  The CTE allows us to create a temporary table and then query from that table.  We write our CTE with the following syntax:\n",
    "\n",
    "```SQL\n",
    "WITH table_name AS (\n",
    "   SELECT ...\n",
    ")\n",
    "\n",
    "SELECT ... FROM table_name;\n",
    "```\n",
    "\n",
    "In general, we use CTEs to break our code up in to multiple steps.  For example, we saw how we can use CTEs to perform a multilevel aggregation, where we first calculated the average movie runtime per studio and year, and then from there found the studio with the highest average runtime per year.   "
   ]
  },
  {
   "cell_type": "markdown",
   "id": "verified-bumper",
   "metadata": {},
   "source": [
    "```sql\n",
    "WITH movie_studio_years AS (\n",
    "  SELECT AVG(runtime) as avg_runtime_per_studio_year, studio, year\n",
    "  FROM movies GROUP BY year, studio\n",
    "), avg_runtimes_rank AS (\n",
    "    SELECT avg_runtime_per_studio_year, \n",
    "    studio,\n",
    "    year,\n",
    "    rank() OVER (partition by year ORDER BY avg_runtime_per_studio_year) as runtime_rank\n",
    "    FROM movie_studio_years\n",
    ")\n",
    "\n",
    "SELECT * FROM avg_runtimes_rank WHERE runtime_rank = 1 LIMIT 5\n",
    "```"
   ]
  }
 ],
 "metadata": {
  "kernelspec": {
   "display_name": "Python 3 (ipykernel)",
   "language": "python",
   "name": "python3"
  },
  "language_info": {
   "codemirror_mode": {
    "name": "ipython",
    "version": 3
   },
   "file_extension": ".py",
   "mimetype": "text/x-python",
   "name": "python",
   "nbconvert_exporter": "python",
   "pygments_lexer": "ipython3",
   "version": "3.10.6"
  }
 },
 "nbformat": 4,
 "nbformat_minor": 5
}
