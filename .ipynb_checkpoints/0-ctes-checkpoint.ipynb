{
 "cells": [
  {
   "cell_type": "markdown",
   "id": "official-collaboration",
   "metadata": {},
   "source": [
    "### Introduction\n",
    "\n",
    "In this lesson, we'll see how to use common table expressions (CTEs) in SQL.  CTEs allow us to create a temporary query which "
   ]
  },
  {
   "cell_type": "markdown",
   "id": "through-expense",
   "metadata": {},
   "source": [
    "### Loading our Data"
   ]
  },
  {
   "cell_type": "code",
   "execution_count": 6,
   "id": "rapid-sending",
   "metadata": {},
   "outputs": [],
   "source": [
    "import sqlite3\n",
    "conn = sqlite3.connect('movie_films_actors.db')\n",
    "cursor = conn.cursor()"
   ]
  },
  {
   "cell_type": "markdown",
   "id": "applied-player",
   "metadata": {},
   "source": [
    "Now, we can see from the above, that in the table, we have the following columns:"
   ]
  },
  {
   "cell_type": "code",
   "execution_count": 14,
   "id": "killing-senate",
   "metadata": {},
   "outputs": [
    {
     "data": {
      "text/plain": [
       "[(0, 'index', 'INTEGER', 0, None, 0),\n",
       " (1, 'title', 'TEXT', 0, None, 0),\n",
       " (2, 'studio', 'TEXT', 0, None, 0),\n",
       " (3, 'runtime', 'REAL', 0, None, 0),\n",
       " (4, 'description', 'TEXT', 0, None, 0),\n",
       " (5, 'release_date', 'TEXT', 0, None, 0),\n",
       " (6, 'year', 'INTEGER', 0, None, 0)]"
      ]
     },
     "execution_count": 14,
     "metadata": {},
     "output_type": "execute_result"
    }
   ],
   "source": [
    "cursor.execute('PRAGMA table_info(movies)')\n",
    "cursor.fetchall()"
   ]
  },
  {
   "cell_type": "code",
   "execution_count": 13,
   "id": "stock-shape",
   "metadata": {},
   "outputs": [
    {
     "data": {
      "text/html": [
       "<div>\n",
       "<style scoped>\n",
       "    .dataframe tbody tr th:only-of-type {\n",
       "        vertical-align: middle;\n",
       "    }\n",
       "\n",
       "    .dataframe tbody tr th {\n",
       "        vertical-align: top;\n",
       "    }\n",
       "\n",
       "    .dataframe thead th {\n",
       "        text-align: right;\n",
       "    }\n",
       "</style>\n",
       "<table border=\"1\" class=\"dataframe\">\n",
       "  <thead>\n",
       "    <tr style=\"text-align: right;\">\n",
       "      <th></th>\n",
       "      <th>index</th>\n",
       "      <th>title</th>\n",
       "      <th>studio</th>\n",
       "      <th>runtime</th>\n",
       "      <th>description</th>\n",
       "      <th>release_date</th>\n",
       "      <th>year</th>\n",
       "    </tr>\n",
       "  </thead>\n",
       "  <tbody>\n",
       "    <tr>\n",
       "      <th>0</th>\n",
       "      <td>0</td>\n",
       "      <td>!Women Art Revolution</td>\n",
       "      <td>Zeitgeist Films</td>\n",
       "      <td>83.0</td>\n",
       "      <td>Through intimate interviews, art, and rarely s...</td>\n",
       "      <td>2011-06-01 00:00:00</td>\n",
       "      <td>2011</td>\n",
       "    </tr>\n",
       "    <tr>\n",
       "      <th>1</th>\n",
       "      <td>1</td>\n",
       "      <td>#Horror</td>\n",
       "      <td>Lowland Pictures</td>\n",
       "      <td>90.0</td>\n",
       "      <td>You've got followers... Cyberbullying goes off...</td>\n",
       "      <td>2015-11-20 00:00:00</td>\n",
       "      <td>2015</td>\n",
       "    </tr>\n",
       "  </tbody>\n",
       "</table>\n",
       "</div>"
      ],
      "text/plain": [
       "   index                  title            studio  runtime  \\\n",
       "0      0  !Women Art Revolution   Zeitgeist Films     83.0   \n",
       "1      1                #Horror  Lowland Pictures     90.0   \n",
       "\n",
       "                                         description         release_date  \\\n",
       "0  Through intimate interviews, art, and rarely s...  2011-06-01 00:00:00   \n",
       "1  You've got followers... Cyberbullying goes off...  2015-11-20 00:00:00   \n",
       "\n",
       "   year  \n",
       "0  2011  \n",
       "1  2015  "
      ]
     },
     "execution_count": 13,
     "metadata": {},
     "output_type": "execute_result"
    }
   ],
   "source": [
    "pd.read_sql('SELECT * FROM movies LIMIT 2;', conn)"
   ]
  },
  {
   "cell_type": "markdown",
   "id": "printable-woman",
   "metadata": {},
   "source": [
    "### A two step problem"
   ]
  },
  {
   "cell_type": "markdown",
   "id": "interracial-wedding",
   "metadata": {},
   "source": [
    "Now let's say that we want to find the years where movies have an average length greater than 120.  Now one way to do this would be to simply using the `HAVING` clause."
   ]
  },
  {
   "cell_type": "code",
   "execution_count": 34,
   "id": "twenty-terrain",
   "metadata": {},
   "outputs": [],
   "source": [
    "query = '''SELECT AVG(runtime) as avg_runtime, year FROM movies\n",
    "GROUP BY year HAVING avg_runtime > 120;'''"
   ]
  },
  {
   "cell_type": "code",
   "execution_count": 33,
   "id": "vital-enterprise",
   "metadata": {},
   "outputs": [
    {
     "data": {
      "text/html": [
       "<div>\n",
       "<style scoped>\n",
       "    .dataframe tbody tr th:only-of-type {\n",
       "        vertical-align: middle;\n",
       "    }\n",
       "\n",
       "    .dataframe tbody tr th {\n",
       "        vertical-align: top;\n",
       "    }\n",
       "\n",
       "    .dataframe thead th {\n",
       "        text-align: right;\n",
       "    }\n",
       "</style>\n",
       "<table border=\"1\" class=\"dataframe\">\n",
       "  <thead>\n",
       "    <tr style=\"text-align: right;\">\n",
       "      <th></th>\n",
       "      <th>avg_runtime</th>\n",
       "      <th>year</th>\n",
       "    </tr>\n",
       "  </thead>\n",
       "  <tbody>\n",
       "    <tr>\n",
       "      <th>0</th>\n",
       "      <td>181.0</td>\n",
       "      <td>1914</td>\n",
       "    </tr>\n",
       "    <tr>\n",
       "      <th>1</th>\n",
       "      <td>133.5</td>\n",
       "      <td>1915</td>\n",
       "    </tr>\n",
       "    <tr>\n",
       "      <th>2</th>\n",
       "      <td>175.0</td>\n",
       "      <td>1916</td>\n",
       "    </tr>\n",
       "  </tbody>\n",
       "</table>\n",
       "</div>"
      ],
      "text/plain": [
       "   avg_runtime  year\n",
       "0        181.0  1914\n",
       "1        133.5  1915\n",
       "2        175.0  1916"
      ]
     },
     "execution_count": 33,
     "metadata": {},
     "output_type": "execute_result"
    }
   ],
   "source": [
    "pd.read_sql(query, conn)"
   ]
  },
  {
   "cell_type": "markdown",
   "id": "emotional-colors",
   "metadata": {},
   "source": [
    "And we can see a mix of movies from the 1910s.  Now another way to do this is with a common table expression.  With a common table expression, we can create a temporary table. Above, we'll use this to first group our movies by year and create a temporary table that has a column of average runtimes per year.  Then, in a separate step we'll select those years that meet our threshold."
   ]
  },
  {
   "cell_type": "code",
   "execution_count": 35,
   "id": "industrial-holly",
   "metadata": {},
   "outputs": [],
   "source": [
    "query = \"\"\"WITH movie_years AS (\n",
    "SELECT\n",
    "        AVG(runtime) as avg_runtime,\n",
    "        year\n",
    "FROM movies GROUP BY year\n",
    ")\n",
    "SELECT     avg_runtime,\n",
    "        year\n",
    "FROM movie_years WHERE avg_runtime > 120;\"\"\""
   ]
  },
  {
   "cell_type": "code",
   "execution_count": 36,
   "id": "adult-palestine",
   "metadata": {},
   "outputs": [
    {
     "data": {
      "text/html": [
       "<div>\n",
       "<style scoped>\n",
       "    .dataframe tbody tr th:only-of-type {\n",
       "        vertical-align: middle;\n",
       "    }\n",
       "\n",
       "    .dataframe tbody tr th {\n",
       "        vertical-align: top;\n",
       "    }\n",
       "\n",
       "    .dataframe thead th {\n",
       "        text-align: right;\n",
       "    }\n",
       "</style>\n",
       "<table border=\"1\" class=\"dataframe\">\n",
       "  <thead>\n",
       "    <tr style=\"text-align: right;\">\n",
       "      <th></th>\n",
       "      <th>avg_runtime</th>\n",
       "      <th>year</th>\n",
       "    </tr>\n",
       "  </thead>\n",
       "  <tbody>\n",
       "    <tr>\n",
       "      <th>0</th>\n",
       "      <td>181.0</td>\n",
       "      <td>1914</td>\n",
       "    </tr>\n",
       "    <tr>\n",
       "      <th>1</th>\n",
       "      <td>133.5</td>\n",
       "      <td>1915</td>\n",
       "    </tr>\n",
       "    <tr>\n",
       "      <th>2</th>\n",
       "      <td>175.0</td>\n",
       "      <td>1916</td>\n",
       "    </tr>\n",
       "  </tbody>\n",
       "</table>\n",
       "</div>"
      ],
      "text/plain": [
       "   avg_runtime  year\n",
       "0        181.0  1914\n",
       "1        133.5  1915\n",
       "2        175.0  1916"
      ]
     },
     "execution_count": 36,
     "metadata": {},
     "output_type": "execute_result"
    }
   ],
   "source": [
    "pd.read_sql(query, conn)"
   ]
  },
  {
   "cell_type": "markdown",
   "id": "straight-priority",
   "metadata": {},
   "source": [
    "Ok, let's break this down below.  \n",
    "\n",
    "1. The `WITH movie_years` creates a new temporary table called `movies_years`.  It's populated with the results of the SELECT statement.\n",
    "\n",
    "2. Then in the second SELECT statement we select from our newly created table `movie_years`.  So notice that we do not need to using the HAVING clause in the second SELECT statement, because we `avg_runtime` is a column in our temporary table. "
   ]
  },
  {
   "cell_type": "markdown",
   "id": "intended-wheat",
   "metadata": {},
   "source": [
    "```sql\n",
    "WITH movie_years AS (\n",
    "  SELECT AVG(runtime) as avg_runtime, year\n",
    "  FROM movies GROUP BY year\n",
    ")\n",
    "\n",
    "SELECT avg_runtime, year FROM movie_years WHERE avg_runtime > 120;\n",
    "```"
   ]
  },
  {
   "cell_type": "markdown",
   "id": "fleet-eagle",
   "metadata": {},
   "source": [
    "So we can see that in CTEs, we create a temporary table with the following syntax:\n",
    "\n",
    "```SQL\n",
    "WITH table_name AS (\n",
    "   SELECT ...\n",
    ")\n",
    "\n",
    "SELECT ... FROM table_name;\n",
    "```"
   ]
  },
  {
   "cell_type": "markdown",
   "id": "pleased-pottery",
   "metadata": {},
   "source": [
    "### CTEs and MultiLevel Aggregations"
   ]
  },
  {
   "cell_type": "markdown",
   "id": "requested-bennett",
   "metadata": {},
   "source": [
    "So above we saw how we can use CTEs to create a temporary table, and we can then query from that temporary table.  But so far, we have not used CTE's for anything that we cannot accomplish with the HAVING clause.  \n",
    "\n",
    "One good usecase for a CTE is performing multilevel aggregations.  For example, let's say that we want to find per year, the studio with the highest average runtime.  \n",
    "\n",
    "To do this, we can start with just a SELECT statement that groups our movies by `year` and `studio`, and returns the average runtime per studio per year."
   ]
  },
  {
   "cell_type": "code",
   "execution_count": 55,
   "id": "acceptable-gallery",
   "metadata": {},
   "outputs": [
    {
     "data": {
      "text/plain": [
       "[(181.0, 'Itala Film', 1914),\n",
       " (75.0, 'Box Office Attractions', 1915),\n",
       " (192.0, 'Gravitas', 1915)]"
      ]
     },
     "execution_count": 55,
     "metadata": {},
     "output_type": "execute_result"
    }
   ],
   "source": [
    "sql = \"\"\"\n",
    "  SELECT AVG(runtime) as avg_runtime_per_studio_year, studio, year\n",
    "  FROM movies GROUP BY year, studio LIMIT 3;\n",
    "\"\"\"\n",
    "\n",
    "cursor.execute(sql)\n",
    "cursor.fetchall()"
   ]
  },
  {
   "cell_type": "markdown",
   "id": "parental-hopkins",
   "metadata": {},
   "source": [
    "But if we now wish to find the studios that had the highest average runtime per year, we can use a CTE to build off of our query above. "
   ]
  },
  {
   "cell_type": "code",
   "execution_count": 58,
   "id": "civic-edwards",
   "metadata": {},
   "outputs": [
    {
     "data": {
      "text/plain": [
       "[(181.0, 'Itala Film', 1914),\n",
       " (192.0, 'Gravitas', 1915),\n",
       " (175.0, 'Cohen Media Group', 1916),\n",
       " (102.0, 'Kino on Video', 1919),\n",
       " (107.0, 'Kino Lorber', 1920)]"
      ]
     },
     "execution_count": 58,
     "metadata": {},
     "output_type": "execute_result"
    }
   ],
   "source": [
    "sql = \"\"\"WITH movie_studio_years AS (\n",
    "  SELECT AVG(runtime) as avg_runtime_per_studio_year, studio, year\n",
    "  FROM movies GROUP BY year, studio\n",
    ")\n",
    "\n",
    "SELECT max(avg_runtime_per_studio_year), studio, year FROM movie_studio_years \n",
    "GROUP BY year LIMIT 5;\n",
    "\"\"\"\n",
    "\n",
    "cursor.execute(sql)\n",
    "cursor.fetchall()"
   ]
  },
  {
   "cell_type": "markdown",
   "id": "empirical-fruit",
   "metadata": {},
   "source": [
    "So above, we create a new temporary table `movie_studio_years` that calculates the average runtime per studio per year -- just like before.  And then, we we query that table to group by year, and find the maximum average runtime per year.\n",
    "\n",
    "We can see that for each year, we are returned with the studio that had the highest average runtime."
   ]
  },
  {
   "cell_type": "markdown",
   "id": "inner-couple",
   "metadata": {},
   "source": [
    "### Summary"
   ]
  },
  {
   "cell_type": "markdown",
   "id": "liquid-antigua",
   "metadata": {},
   "source": [
    "In this lesson we learned about CTEs.  The CTE allows us to create a temporary table and then query from that table.  We write our CTE with the following syntax:\n",
    "\n",
    "```SQL\n",
    "WITH table_name AS (\n",
    "   SELECT ...\n",
    ")\n",
    "\n",
    "SELECT ... FROM table_name;\n",
    "```\n",
    "\n",
    "In general, we use CTEs to break our code up in to multiple steps.  For example, we saw how we can use CTEs to perform a multilevel aggregation, where we first calculated the average movie runtime per studio and year, and then from there found the studio with the highest average runtime per year.   "
   ]
  },
  {
   "cell_type": "markdown",
   "id": "possible-teacher",
   "metadata": {},
   "source": [
    "```sql\n",
    "WITH movie_studio_years AS (\n",
    "  SELECT AVG(runtime) as avg_runtime_per_studio_year, studio, year\n",
    "  FROM movies GROUP BY year, studio\n",
    ")\n",
    "\n",
    "SELECT max(avg_runtime_per_studio_year), studio, year FROM movie_studio_years \n",
    "GROUP BY year;\n",
    "```"
   ]
  }
 ],
 "metadata": {
  "kernelspec": {
   "display_name": "Python 3",
   "language": "python",
   "name": "python3"
  },
  "language_info": {
   "codemirror_mode": {
    "name": "ipython",
    "version": 3
   },
   "file_extension": ".py",
   "mimetype": "text/x-python",
   "name": "python",
   "nbconvert_exporter": "python",
   "pygments_lexer": "ipython3",
   "version": "3.8.6"
  }
 },
 "nbformat": 4,
 "nbformat_minor": 5
}
